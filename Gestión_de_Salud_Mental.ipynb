{
  "nbformat": 4,
  "nbformat_minor": 0,
  "metadata": {
    "colab": {
      "provenance": [],
      "authorship_tag": "ABX9TyMGETMFB0nObeC25eyesueE",
      "include_colab_link": true
    },
    "kernelspec": {
      "name": "python3",
      "display_name": "Python 3"
    },
    "language_info": {
      "name": "python"
    }
  },
  "cells": [
    {
      "cell_type": "markdown",
      "metadata": {
        "id": "view-in-github",
        "colab_type": "text"
      },
      "source": [
        "<a href=\"https://colab.research.google.com/github/JFilee/PROGRAMAS/blob/main/Gesti%C3%B3n_de_Salud_Mental.ipynb\" target=\"_parent\"><img src=\"https://colab.research.google.com/assets/colab-badge.svg\" alt=\"Open In Colab\"/></a>"
      ]
    },
    {
      "cell_type": "code",
      "execution_count": null,
      "metadata": {
        "colab": {
          "base_uri": "https://localhost:8080/"
        },
        "id": "BnzapYd-huql",
        "outputId": "09a6f894-0c98-4b00-9570-b829e3d10595"
      },
      "outputs": [
        {
          "output_type": "stream",
          "name": "stdout",
          "text": [
            "\n",
            "--- PLATAFORMA DE GESTIÓN DE SALUD MENTAL ---\n",
            "--------------------------------------------------\n",
            "1. Agregar empleado\n",
            "2. Realizar evaluación de salud mental\n",
            "3. Ver historial de evaluaciones\n",
            "4. Salir\n",
            "--------------------------------------------------\n"
          ]
        }
      ],
      "source": [
        "import random\n",
        "import datetime\n",
        "\n",
        "class Empleado:\n",
        "    def __init__(self, nombre):\n",
        "        self.nombre = nombre\n",
        "        self.evaluaciones = []\n",
        "\n",
        "    def evaluar_salud_mental(self):\n",
        "        print(f\"\\nAutoevaluación de salud mental para {self.nombre}\")\n",
        "        estres = int(input(\"Nivel de estrés (0-10): \"))\n",
        "        ansiedad = int(input(\"Nivel de ansiedad (0-10): \"))\n",
        "        agotamiento = int(input(\"Nivel de agotamiento (0-10): \"))\n",
        "        fecha = datetime.date.today()\n",
        "\n",
        "        evaluacion = {\n",
        "            \"fecha\": fecha,\n",
        "            \"estrés\": estres,\n",
        "            \"ansiedad\": ansiedad,\n",
        "            \"agotamiento\": agotamiento\n",
        "        }\n",
        "        self.evaluaciones.append(evaluacion)\n",
        "        print(\"-\" * 50)\n",
        "        print(\"Evaluación guardada con éxito.\\n\")\n",
        "        self.recomendar(evaluacion)\n",
        "\n",
        "    def recomendar(self, evaluacion):\n",
        "        estres, ansiedad, agotamiento = evaluacion[\"estrés\"], evaluacion[\"ansiedad\"], evaluacion[\"agotamiento\"]\n",
        "        print(\"\\nRecomendaciones para mejorar su salud mental:\")\n",
        "\n",
        "        if estres > 7:\n",
        "            print(\"- Considere hacer una pausa y practicar técnicas de respiración.\")\n",
        "        if ansiedad > 7:\n",
        "            print(\"- Trate de realizar actividades que le relajen, como ejercicio o meditación.\")\n",
        "        if agotamiento > 7:\n",
        "            print(\"- Asegúrese de dormir bien y tomar descansos regulares durante el día.\")\n",
        "\n",
        "        # Verificar que todos los valores sean numéricos y menores o iguales a 7\n",
        "        if all(isinstance(value, (int, float)) and value <= 7 for value in evaluacion.values()):\n",
        "            print(\"- ¡Sigue cuidando tu bienestar! Mantén una buena rutina de descanso y ejercicio.\\n\")\n",
        "\n",
        "\n",
        "    def mostrar_historial(self):\n",
        "        print(f\"\\nHistorial de evaluaciones para {self.nombre}:\")\n",
        "        for eval in self.evaluaciones:\n",
        "            print(f\"Fecha: {eval['fecha']}, Estrés: {eval['estrés']}, Ansiedad: {eval['ansiedad']}, Agotamiento: {eval['agotamiento']}\")\n",
        "\n",
        "class PlataformaSaludMental:\n",
        "    def __init__(self):\n",
        "        self.empleados = {}\n",
        "\n",
        "    def agregar_empleado(self, nombre):\n",
        "        if nombre not in self.empleados:\n",
        "            self.empleados[nombre] = Empleado(nombre)\n",
        "            print(f\"Empleado {nombre} agregado.\\n\")\n",
        "        else:\n",
        "            print(f\"El empleado {nombre} ya existe.\\n\")\n",
        "\n",
        "    def realizar_evaluacion(self, nombre):\n",
        "        if nombre in self.empleados:\n",
        "            self.empleados[nombre].evaluar_salud_mental()\n",
        "        else:\n",
        "            print(f\"Empleado {nombre} no encontrado.\\n\")\n",
        "\n",
        "    def mostrar_historial_empleado(self, nombre):\n",
        "        if nombre in self.empleados:\n",
        "            self.empleados[nombre].mostrar_historial()\n",
        "        else:\n",
        "            print(f\"Empleado {nombre} no encontrado.\\n\")\n",
        "\n",
        "# Menú de opciones\n",
        "def main():\n",
        "    plataforma = PlataformaSaludMental()\n",
        "    while True:\n",
        "        print(\"\\n--- PLATAFORMA DE GESTIÓN DE SALUD MENTAL ---\")\n",
        "        print(\"-\" * 50)\n",
        "        print(\"1. Agregar empleado\")\n",
        "        print(\"2. Realizar evaluación de salud mental\")\n",
        "        print(\"3. Ver historial de evaluaciones\")\n",
        "        print(\"4. Salir\")\n",
        "        print(\"-\" * 50)\n",
        "\n",
        "        opcion = input(\"Seleccione una opción: \")\n",
        "\n",
        "        if opcion == \"1\":\n",
        "            print(\"-\" * 50)\n",
        "            nombre = input(\"Ingrese el nombre del empleado: \")\n",
        "            plataforma.agregar_empleado(nombre)\n",
        "        elif opcion == \"2\":\n",
        "            nombre = input(\"Ingrese el nombre del empleado: \")\n",
        "            plataforma.realizar_evaluacion(nombre)\n",
        "        elif opcion == \"3\":\n",
        "            nombre = input(\"Ingrese el nombre del empleado: \")\n",
        "            plataforma.mostrar_historial_empleado(nombre)\n",
        "        elif opcion == \"4\":\n",
        "            print(\"Saliendo del programa.\")\n",
        "            break\n",
        "        else:\n",
        "            print(\"Opción no válida. Intente de nuevo.\")\n",
        "\n",
        "if __name__ == \"__main__\":\n",
        "    main()\n"
      ]
    }
  ]
}