{
  "nbformat": 4,
  "nbformat_minor": 0,
  "metadata": {
    "colab": {
      "provenance": [],
      "authorship_tag": "ABX9TyM4BcxXLLKns4dPrZ5graze",
      "include_colab_link": true
    },
    "kernelspec": {
      "name": "python3",
      "display_name": "Python 3"
    },
    "language_info": {
      "name": "python"
    }
  },
  "cells": [
    {
      "cell_type": "markdown",
      "metadata": {
        "id": "view-in-github",
        "colab_type": "text"
      },
      "source": [
        "<a href=\"https://colab.research.google.com/github/JFilee/PROGRAMAS/blob/main/porcentaje_de_ganancia.ipynb\" target=\"_parent\"><img src=\"https://colab.research.google.com/assets/colab-badge.svg\" alt=\"Open In Colab\"/></a>"
      ]
    },
    {
      "cell_type": "code",
      "execution_count": 9,
      "metadata": {
        "colab": {
          "base_uri": "https://localhost:8080/"
        },
        "id": "K_G6cH-KV0Es",
        "outputId": "f02db7ff-e50a-456e-b407-57f8b65ac07b"
      },
      "outputs": [
        {
          "output_type": "stream",
          "name": "stdout",
          "text": [
            "Ingrese el número de facturas que quiere sumar: 2\n",
            "-------------------------------------------------\n",
            "Ingrese el valor de la factura 1: 2132445\n",
            "-------------------------------------------------\n",
            "Ingrese el valor de la factura 2: 12323\n",
            "-------------------------------------------------\n",
            "\n",
            "Resultados:\n",
            "Total de la suma de las facturas: $2144768.00\n",
            "Ganancia del 20%: $428953.60\n",
            "Ganancia del 25%: $536192.00\n"
          ]
        }
      ],
      "source": [
        "def calcular_ganancias():\n",
        "    # Solicitar el número de facturas\n",
        "    n_facturas = int(input(\"Ingrese el número de facturas que quiere sumar: \"))\n",
        "    print(\"-------------------------------------------------\")\n",
        "\n",
        "    total_suma = 0\n",
        "\n",
        "    # Solicitar el valor de cada factura y acumular el total\n",
        "    for i in range(n_facturas):\n",
        "        valor_factura = float(input(f\"Ingrese el valor de la factura {i + 1}: \"))\n",
        "        total_suma += valor_factura\n",
        "        print(\"-------------------------------------------------\")\n",
        "\n",
        "    # Calcular el 20% y el 25% de ganancia\n",
        "    ganancia_20 = total_suma * 0.20\n",
        "    ganancia_25 = total_suma * 0.25\n",
        "\n",
        "    # Mostrar los resultados\n",
        "    print(\"\\nResultados:\")\n",
        "    print(f\"Total de la suma de las facturas: ${total_suma:.2f}\")\n",
        "    print(f\"Ganancia del 20%: ${ganancia_20:.2f}\")\n",
        "    print(f\"Ganancia del 25%: ${ganancia_25:.2f}\")\n",
        "\n",
        "# Ejecutar la función\n",
        "calcular_ganancias()\n"
      ]
    }
  ]
}